{
 "cells": [
  {
   "cell_type": "code",
   "execution_count": 1,
   "metadata": {
    "collapsed": true
   },
   "outputs": [],
   "source": [
    "import numpy as np\n",
    "import matplotlib.pyplot as plt\n",
    "%matplotlib inline"
   ]
  },
  {
   "cell_type": "code",
   "execution_count": 2,
   "metadata": {
    "collapsed": false
   },
   "outputs": [],
   "source": [
    "def hyps(x,theta):\n",
    "    return 1./(1+np.exp(-np.dot(theta,x.T)))\n",
    "\n",
    "def decision(z):\n",
    "    return np.array([0 if c<0.5 else 1 for c in z])\n",
    "\n",
    "x = np.array([[1,2],[1,3],[2,3],[2,4],[2,1],[3,1],[3,2],[4,2],[4,3]])\n",
    "y = np.array([[1,1,0,0,1,1,1,0,0]])\n",
    "theta0 = np.array([[2,1,1]])"
   ]
  },
  {
   "cell_type": "code",
   "execution_count": 3,
   "metadata": {
    "collapsed": false
   },
   "outputs": [],
   "source": [
    "x_ = np.hstack((np.ones_like(y.T),x))"
   ]
  },
  {
   "cell_type": "code",
   "execution_count": 4,
   "metadata": {
    "collapsed": false
   },
   "outputs": [],
   "source": [
    "def cost_func(x,y,theta):\n",
    "    return -np.mean(np.log(hyps(x,theta))*y + (1-y)*np.log(1-hyps(x,theta)))"
   ]
  },
  {
   "cell_type": "code",
   "execution_count": 5,
   "metadata": {
    "collapsed": true
   },
   "outputs": [],
   "source": [
    "x1 = np.linspace(0,5,num=10)\n",
    "x2 = x1.copy()"
   ]
  },
  {
   "cell_type": "code",
   "execution_count": 6,
   "metadata": {
    "collapsed": true
   },
   "outputs": [],
   "source": [
    "def stochastic_G(x,y,theta0, lrn_rate=1e-3, max_iter = 10000, eps=1e-4):\n",
    "    theta_hist = [theta0.copy()]\n",
    "    theta = theta0.copy().astype('float32')\n",
    "    \n",
    "    for i in xrange(max_iter):\n",
    "        theta-=lrn_rate*np.mean(np.dot(hyps(x_,theta) - y,x_ ),axis=0)\n",
    "        theta_hist.append(theta.copy())\n",
    "        \n",
    "        norm = np.linalg.norm(theta - theta_hist[-2])\n",
    "        if norm < eps:\n",
    "            print \"Converged at step: {}; norm: {}\".format(i,norm)\n",
    "            break\n",
    "    \n",
    "    return theta,theta_hist"
   ]
  },
  {
   "cell_type": "code",
   "execution_count": 7,
   "metadata": {
    "collapsed": false
   },
   "outputs": [],
   "source": [
    "th1,hist = stochastic_G(x_,y,theta0)"
   ]
  },
  {
   "cell_type": "code",
   "execution_count": 8,
   "metadata": {
    "collapsed": false
   },
   "outputs": [
    {
     "data": {
      "text/plain": [
       "array([1, 1, 0, 0, 1, 1, 1, 0, 0])"
      ]
     },
     "execution_count": 8,
     "metadata": {},
     "output_type": "execute_result"
    }
   ],
   "source": [
    "decision(hyps(x_,th1).ravel())"
   ]
  },
  {
   "cell_type": "code",
   "execution_count": 9,
   "metadata": {
    "collapsed": false
   },
   "outputs": [
    {
     "data": {
      "text/plain": [
       "array([[1, 1, 0, 0, 1, 1, 1, 0, 0]])"
      ]
     },
     "execution_count": 9,
     "metadata": {},
     "output_type": "execute_result"
    }
   ],
   "source": [
    "y"
   ]
  },
  {
   "cell_type": "code",
   "execution_count": 10,
   "metadata": {
    "collapsed": true
   },
   "outputs": [],
   "source": [
    "#Success"
   ]
  }
 ],
 "metadata": {
  "kernelspec": {
   "display_name": "Python 2",
   "language": "python",
   "name": "python2"
  },
  "language_info": {
   "codemirror_mode": {
    "name": "ipython",
    "version": 2
   },
   "file_extension": ".py",
   "mimetype": "text/x-python",
   "name": "python",
   "nbconvert_exporter": "python",
   "pygments_lexer": "ipython2",
   "version": "2.7.12"
  }
 },
 "nbformat": 4,
 "nbformat_minor": 0
}
