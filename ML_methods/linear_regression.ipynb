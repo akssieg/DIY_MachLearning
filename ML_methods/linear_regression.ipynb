{
 "cells": [
  {
   "cell_type": "code",
   "execution_count": 3,
   "metadata": {
    "collapsed": true
   },
   "outputs": [],
   "source": [
    "import numpy as np\n",
    "import matplotlib.pyplot as plt\n",
    "%matplotlib inline"
   ]
  },
  {
   "cell_type": "code",
   "execution_count": 190,
   "metadata": {
    "collapsed": true
   },
   "outputs": [],
   "source": [
    "n_dims = 1\n",
    "\n",
    "\n",
    "x = np.linspace(0, 10, num=10)\n",
    "y = np.ones_like(x)*2"
   ]
  },
  {
   "cell_type": "code",
   "execution_count": 280,
   "metadata": {
    "collapsed": false
   },
   "outputs": [],
   "source": [
    "class Lin_cost_func(object):\n",
    "    \"\"\"Linear cost function and its derivative\"\"\"\n",
    "    def __init__(self, x,y):\n",
    "        self.x, self.y = x,y\n",
    "        \n",
    "    def __call__(self, f):\n",
    "        return 1/2.*np.mean( [(f(_x) - _y)**2 for _x,_y in zip(x,y) ] )\n",
    "    \n",
    "    def part_der(self, f, params):\n",
    "        return np.mean( [ f(_x) - _y for _x,_y in zip(x,y)]) * params\n",
    "\n",
    "    \n",
    "class Linear_func(object):\n",
    "    \"\"\"Linear function for regression\"\"\"\n",
    "    def __init__(self, n_d = n_dims):\n",
    "        self.params = np.random.uniform(size = n_d+1)\n",
    "        \n",
    "    def __call__(self, x):\n",
    "        return np.dot(self.params[1:], x) + self.params[0]\n",
    "    \n",
    "    def fit(self, x, y, lrn_rate = 1e-5, max_iter = 10, fin_accuracy = 1e-5):\n",
    "        \"\"\"method for fitting data with gradient descent\"\"\"\n",
    "        x_ = np.insert(x,0,1)\n",
    "        #change it\n",
    "        cost_f = Lin_cost_func(x_,y)\n",
    "        \n",
    "        for i in xrange(max_iter):\n",
    "            if not (i %1): print self.params\n",
    "            self.params -= lrn_rate * cost_f.part_der(self, self.params)\n",
    "            if cost_f(self) < fin_accuracy: \n",
    "                print \"Aligned\"\n",
    "                break\n",
    "                \n",
    "linear_f = lambda p0, p1, x: p1*x+p0"
   ]
  },
  {
   "cell_type": "code",
   "execution_count": 272,
   "metadata": {
    "collapsed": true
   },
   "outputs": [],
   "source": [
    "f1 = Linear_func(1)\n"
   ]
  },
  {
   "cell_type": "code",
   "execution_count": 273,
   "metadata": {
    "collapsed": false
   },
   "outputs": [],
   "source": [
    "res = [f1(z) for z in x]"
   ]
  },
  {
   "cell_type": "code",
   "execution_count": 274,
   "metadata": {
    "collapsed": false
   },
   "outputs": [
    {
     "data": {
      "text/plain": [
       "[<matplotlib.lines.Line2D at 0x7fde11072ad0>]"
      ]
     },
     "execution_count": 274,
     "metadata": {},
     "output_type": "execute_result"
    },
    {
     "data": {
      "image/png": "[encoded data removed]",
      "text/plain": [
       "<matplotlib.figure.Figure at 0x7fde1107d090>"
      ]
     },
     "metadata": {},
     "output_type": "display_data"
    }
   ],
   "source": [
    "plt.scatter(x,y,c='r')\n",
    "plt.plot(x,res)"
   ]
  },
  {
   "cell_type": "code",
   "execution_count": 275,
   "metadata": {
    "collapsed": false
   },
   "outputs": [
    {
     "name": "stdout",
     "output_type": "stream",
     "text": [
      "[ 0.86660347  0.44176622]\n",
      "_______________________________\n",
      "[ 0.86660347  0.44176622]\n",
      "[ 0.8656715   0.44129113]\n",
      "[ 0.86474339  0.44081801]\n",
      "[ 0.86381912  0.44034684]\n",
      "[ 0.86289868  0.43987763]\n",
      "[ 0.86198203  0.43941036]\n",
      "[ 0.86106916  0.43894501]\n",
      "[ 0.86016005  0.43848157]\n",
      "[ 0.85925467  0.43802004]\n",
      "[ 0.85835301  0.4375604 ]\n",
      "_______________________________\n",
      "[ 0.85745504  0.43710264]\n"
     ]
    }
   ],
   "source": [
    "a0 = f1.params.copy()\n",
    "print f1.params\n",
    "print '_______________________________'\n",
    "f1.fit(x,y, lrn_rate=0.001, max_iter=10)\n",
    "print '_______________________________'\n",
    "print f1.params"
   ]
  },
  {
   "cell_type": "code",
   "execution_count": 276,
   "metadata": {
    "collapsed": false
   },
   "outputs": [
    {
     "data": {
      "text/plain": [
       "[<matplotlib.lines.Line2D at 0x7fde110cb290>]"
      ]
     },
     "execution_count": 276,
     "metadata": {},
     "output_type": "execute_result"
    },
    {
     "data": {
      "image/png": "[encoded data removed]",
      "text/plain": [
       "<matplotlib.figure.Figure at 0x7fde11072b10>"
      ]
     },
     "metadata": {},
     "output_type": "display_data"
    }
   ],
   "source": [
    "res = [f1(z) for z in x]\n",
    "plt.scatter(x,y,c='r')\n",
    "plt.plot(x,res)"
   ]
  },
  {
   "cell_type": "code",
   "execution_count": 254,
   "metadata": {
    "collapsed": true
   },
   "outputs": [],
   "source": [
    "f1.params = np.array([1.7,0.5])"
   ]
  },
  {
   "cell_type": "code",
   "execution_count": 255,
   "metadata": {
    "collapsed": false
   },
   "outputs": [
    {
     "data": {
      "text/plain": [
       "[<matplotlib.lines.Line2D at 0x7fde113f0450>]"
      ]
     },
     "execution_count": 255,
     "metadata": {},
     "output_type": "execute_result"
    },
    {
     "data": {
      "image/png": "[encoded data removed]",
      "text/plain": [
       "<matplotlib.figure.Figure at 0x7fde1151a690>"
      ]
     },
     "metadata": {},
     "output_type": "display_data"
    }
   ],
   "source": [
    "res = [f1(z) for z in x]\n",
    "plt.scatter(x,y,c='r')\n",
    "\n",
    "plt.plot(x,res)"
   ]
  },
  {
   "cell_type": "code",
   "execution_count": 322,
   "metadata": {
    "collapsed": false
   },
   "outputs": [
    {
     "ename": "ValueError",
     "evalue": "total size of new array must be unchanged",
     "output_type": "error",
     "traceback": [
      "\u001b[1;31m---------------------------------------------------------------------------\u001b[0m",
      "\u001b[1;31mValueError\u001b[0m                                Traceback (most recent call last)",
      "\u001b[1;32m<ipython-input-322-0e6f5085d889>\u001b[0m in \u001b[0;36m<module>\u001b[1;34m()\u001b[0m\n\u001b[0;32m      3\u001b[0m \u001b[0mX\u001b[0m\u001b[1;33m,\u001b[0m \u001b[0mY\u001b[0m \u001b[1;33m=\u001b[0m \u001b[0mnp\u001b[0m\u001b[1;33m.\u001b[0m\u001b[0mmeshgrid\u001b[0m\u001b[1;33m(\u001b[0m\u001b[0mo_x\u001b[0m\u001b[1;33m,\u001b[0m \u001b[0mo_y\u001b[0m\u001b[1;33m)\u001b[0m\u001b[1;33m\u001b[0m\u001b[0m\n\u001b[0;32m      4\u001b[0m \u001b[1;33m\u001b[0m\u001b[0m\n\u001b[1;32m----> 5\u001b[1;33m \u001b[0mZ\u001b[0m \u001b[1;33m=\u001b[0m \u001b[0mnp\u001b[0m\u001b[1;33m.\u001b[0m\u001b[0marray\u001b[0m\u001b[1;33m(\u001b[0m\u001b[1;33m[\u001b[0m\u001b[0mLin_cost_func\u001b[0m\u001b[1;33m(\u001b[0m\u001b[0mx\u001b[0m\u001b[1;33m,\u001b[0m\u001b[0my\u001b[0m\u001b[1;33m)\u001b[0m\u001b[1;33m(\u001b[0m\u001b[1;32mlambda\u001b[0m \u001b[0mz\u001b[0m\u001b[1;33m:\u001b[0m \u001b[0mlinear_f\u001b[0m\u001b[1;33m(\u001b[0m\u001b[0mp0\u001b[0m\u001b[1;33m,\u001b[0m\u001b[0mp1\u001b[0m\u001b[1;33m,\u001b[0m\u001b[0mz\u001b[0m\u001b[1;33m)\u001b[0m\u001b[1;33m)\u001b[0m \u001b[1;32mfor\u001b[0m \u001b[0mp0\u001b[0m\u001b[1;33m,\u001b[0m\u001b[0mp1\u001b[0m \u001b[1;32min\u001b[0m \u001b[0mzip\u001b[0m\u001b[1;33m(\u001b[0m\u001b[0mX\u001b[0m\u001b[1;33m,\u001b[0m\u001b[0mY\u001b[0m\u001b[1;33m)\u001b[0m\u001b[1;33m]\u001b[0m\u001b[1;33m)\u001b[0m\u001b[1;33m.\u001b[0m\u001b[0mreshape\u001b[0m\u001b[1;33m(\u001b[0m\u001b[0mo_x\u001b[0m\u001b[1;33m.\u001b[0m\u001b[0msize\u001b[0m\u001b[1;33m,\u001b[0m\u001b[0mo_y\u001b[0m\u001b[1;33m.\u001b[0m\u001b[0msize\u001b[0m\u001b[1;33m)\u001b[0m\u001b[1;33m\u001b[0m\u001b[0m\n\u001b[0m",
      "\u001b[1;31mValueError\u001b[0m: total size of new array must be unchanged"
     ]
    }
   ],
   "source": [
    "resolution = 100\n",
    "o_x = o_y = np.linspace(-5,5, num=resolution)\n",
    "X, Y = np.meshgrid(o_x, o_y)\n",
    "\n",
    "Z = np.array([Lin_cost_func(x,y)(lambda z: linear_f(p0,p1,z)) for p0,p1 in zip(X,Y)]).reshape(o_x.size,o_y.size)"
   ]
  },
  {
   "cell_type": "code",
   "execution_count": 320,
   "metadata": {
    "collapsed": false
   },
   "outputs": [
    {
     "data": {
      "text/plain": [
       "<matplotlib.text.Text at 0x7fde10838850>"
      ]
     },
     "execution_count": 320,
     "metadata": {},
     "output_type": "execute_result"
    },
    {
     "data": {
      "image/png": "[encoded data removed]",
      "text/plain": [
       "<matplotlib.figure.Figure at 0x7fde10a56a10>"
      ]
     },
     "metadata": {},
     "output_type": "display_data"
    }
   ],
   "source": [
    "nr, nc = Z.shape\n",
    "\n",
    "# We are using automatic selection of contour levels;\n",
    "# this is usually not such a good idea, because they don't\n",
    "# occur on nice boundaries, but we do it here for purposes\n",
    "# of illustration.\n",
    "CS = plt.contourf(,X Y, Z, 10,\n",
    "                  #[-1, -0.1, 0, 0.1],\n",
    "                  #alpha=0.5,\n",
    "                  cmap=plt.cm.bone,\n",
    "                  origin='lower')\n",
    "plt.xlabel('P0')\n",
    "plt.ylabel('P1')"
   ]
  },
  {
   "cell_type": "code",
   "execution_count": 325,
   "metadata": {
    "collapsed": false
   },
   "outputs": [
    {
     "data": {
      "text/plain": [
       "array([[-5.       , -4.8989899, -4.7979798, ...,  4.7979798,  4.8989899,\n",
       "         5.       ],\n",
       "       [-5.       , -4.8989899, -4.7979798, ...,  4.7979798,  4.8989899,\n",
       "         5.       ],\n",
       "       [-5.       , -4.8989899, -4.7979798, ...,  4.7979798,  4.8989899,\n",
       "         5.       ],\n",
       "       ..., \n",
       "       [-5.       , -4.8989899, -4.7979798, ...,  4.7979798,  4.8989899,\n",
       "         5.       ],\n",
       "       [-5.       , -4.8989899, -4.7979798, ...,  4.7979798,  4.8989899,\n",
       "         5.       ],\n",
       "       [-5.       , -4.8989899, -4.7979798, ...,  4.7979798,  4.8989899,\n",
       "         5.       ]])"
      ]
     },
     "execution_count": 325,
     "metadata": {},
     "output_type": "execute_result"
    }
   ],
   "source": [
    "X"
   ]
  },
  {
   "cell_type": "code",
   "execution_count": null,
   "metadata": {
    "collapsed": true
   },
   "outputs": [],
   "source": []
  }
 ],
 "metadata": {
  "kernelspec": {
   "display_name": "Python 2",
   "language": "python",
   "name": "python2"
  },
  "language_info": {
   "codemirror_mode": {
    "name": "ipython",
    "version": 2
   },
   "file_extension": ".py",
   "mimetype": "text/x-python",
   "name": "python",
   "nbconvert_exporter": "python",
   "pygments_lexer": "ipython2",
   "version": "2.7.12"
  }
 },
 "nbformat": 4,
 "nbformat_minor": 0
}
