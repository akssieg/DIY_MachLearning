{
 "cells": [
  {
   "cell_type": "code",
   "execution_count": 239,
   "metadata": {
    "collapsed": true
   },
   "outputs": [],
   "source": [
    "import numpy as np\n",
    "import matplotlib.pyplot as plt\n",
    "%matplotlib inline\n",
    "# import pdb"
   ]
  },
  {
   "cell_type": "code",
   "execution_count": 344,
   "metadata": {
    "collapsed": false
   },
   "outputs": [],
   "source": [
    "n_dims = 1\n",
    "\n",
    "\n",
    "lin_func = lambda x: x**2 + 3*x + 5 \n",
    "x = np.linspace(0, 1, num=10)\n",
    "y = np.r_[[lin_func(z)+np.random.uniform(0,2,size=1) for z in x]].ravel()"
   ]
  },
  {
   "cell_type": "code",
   "execution_count": 345,
   "metadata": {
    "collapsed": false
   },
   "outputs": [],
   "source": [
    "class Linear_func(object):\n",
    "    \"\"\"Linear function for regression\"\"\"\n",
    "    def __init__(self, n_d = n_dims):\n",
    "        self.theta = np.random.uniform(size = n_d+1)\n",
    "        self.theta_hist = [self.theta.copy()]\n",
    "        self.grad_hist = []\n",
    "        \n",
    "    def __call__(self, x):\n",
    "        return np.dot(self.theta[1:], x) + self.theta[0]\n",
    "    \n",
    "    def fit(self, x, y, lrn_rate = 1e-3, max_iter = 1000, fin_accuracy = 1e-5):\n",
    "        \"\"\"method for fitting data with gradient descent\"\"\"\n",
    "        x_ = np.vstack([np.ones_like(x),x]).T\n",
    "        \n",
    "        for i in xrange(max_iter):\n",
    "            grad = np.dot(y - np.dot(x_,self.theta), x_)/ len(y)\n",
    "            if i % 100 == 0: print grad\n",
    "            self.theta += lrn_rate * grad\n",
    "            \n",
    "            norm = np.linalg.norm(self.theta_hist[-1] - self.theta)\n",
    "            self.theta_hist.append(self.theta.copy())\n",
    "            \n",
    "            if  norm < fin_accuracy: \n",
    "                self.theta_hist.append(self.theta.copy())\n",
    "                print \"Aligned on step %d\" % i\n",
    "                break"
   ]
  },
  {
   "cell_type": "code",
   "execution_count": 346,
   "metadata": {
    "collapsed": true
   },
   "outputs": [],
   "source": [
    "#take2"
   ]
  },
  {
   "cell_type": "code",
   "execution_count": 347,
   "metadata": {
    "collapsed": false
   },
   "outputs": [],
   "source": [
    "f1 = Linear_func(1)"
   ]
  },
  {
   "cell_type": "code",
   "execution_count": 348,
   "metadata": {
    "collapsed": false
   },
   "outputs": [
    {
     "name": "stdout",
     "output_type": "stream",
     "text": [
      "[ 0.23060275  0.30733567  0.38406859  0.46080151  0.53753443  0.61426734\n",
      "  0.69100026  0.76773318  0.8444661   0.92119902]\n"
     ]
    }
   ],
   "source": [
    "res = [f1(z) for z in x]\n",
    "# print x\n",
    "x_ = np.vstack((np.ones_like(x), x)).T\n",
    "print x_.dot(f1.theta)\n",
    "# print y"
   ]
  },
  {
   "cell_type": "code",
   "execution_count": 349,
   "metadata": {
    "collapsed": false
   },
   "outputs": [
    {
     "data": {
      "text/plain": [
       "[<matplotlib.lines.Line2D at 0x7f2bb8499990>]"
      ]
     },
     "execution_count": 349,
     "metadata": {},
     "output_type": "execute_result"
    },
    {
     "data": {
      "image/png": "[encoded data removed]",
      "text/plain": [
       "<matplotlib.figure.Figure at 0x7f2bb8499110>"
      ]
     },
     "metadata": {},
     "output_type": "display_data"
    }
   ],
   "source": [
    "plt.scatter(x,y,c='r')\n",
    "plt.plot(x,res)"
   ]
  },
  {
   "cell_type": "code",
   "execution_count": 350,
   "metadata": {
    "collapsed": false
   },
   "outputs": [
    {
     "name": "stdout",
     "output_type": "stream",
     "text": [
      "started\n",
      "[ 0.23060275  0.69059626]\n",
      "_______________________________\n",
      "[ 6.95705194  3.77683877]\n",
      "[ 1.93569737  1.047932  ]\n",
      "[ 0.5393689   0.28930765]\n",
      "[ 0.1510198   0.07852523]\n",
      "[ 0.04295541  0.020063  ]\n",
      "[ 0.01283296  0.00394345]\n",
      "[ 0.0043887  -0.00041284]\n",
      "[ 0.00197753 -0.00150793]\n",
      "[ 0.00124878 -0.00170517]\n",
      "[ 0.00099234 -0.00166101]\n",
      "_______________________________\n",
      "finished\n",
      "[ 5.71255472  3.6390535 ]\n"
     ]
    }
   ],
   "source": [
    "a0 = f1.theta.copy()\n",
    "print \"started\"\n",
    "print f1.theta\n",
    "print '_______________________________'\n",
    "f1.fit(x,y, lrn_rate=1e-2, max_iter=1000)\n",
    "print '_______________________________'\n",
    "print \"finished\"\n",
    "print f1.theta"
   ]
  },
  {
   "cell_type": "code",
   "execution_count": 351,
   "metadata": {
    "collapsed": false
   },
   "outputs": [
    {
     "data": {
      "text/plain": [
       "<matplotlib.text.Text at 0x7f2bb8c8f950>"
      ]
     },
     "execution_count": 351,
     "metadata": {},
     "output_type": "execute_result"
    },
    {
     "data": {
      "image/png": "[encoded data removed]",
      "text/plain": [
       "<matplotlib.figure.Figure at 0x7f2bb7f79390>"
      ]
     },
     "metadata": {},
     "output_type": "display_data"
    }
   ],
   "source": [
    "res = [f1(z) for z in x]\n",
    "plt.scatter(x,y,c='r')\n",
    "plt.plot(x,res)\n",
    "plt.ylabel('f(x)')"
   ]
  },
  {
   "cell_type": "code",
   "execution_count": 352,
   "metadata": {
    "collapsed": false
   },
   "outputs": [],
   "source": [
    "resolution = 200\n",
    "eps = np.abs(max(np.ravel(f1.theta_hist)))\n",
    "\n",
    "o_x = np.linspace( f1.theta[0]-eps,f1.theta[0]+eps, num=resolution)\n",
    "o_y = np.linspace( f1.theta[1]-eps,f1.theta[1]+eps, num=resolution)\n",
    "X, Y = np.meshgrid(o_x, o_y)\n",
    "\n",
    "# CF = lambda x,y,theta: np.abs(np.mean([y - np.dot(theta,x_) ]))\n",
    "\n",
    "def cost_func(x,y,theta):\n",
    "    a = y - np.dot(theta,x_)\n",
    "    return 1./len(a)*np.sum(z**2 for z in a)\n",
    "\n",
    "x_ = np.vstack([np.ones_like(x),x])\n",
    "\n",
    "Z = np.array([ cost_func(x_,y,[p1,p0]) for p0 in o_x for p1 in o_y]).reshape(o_x.size,o_y.size)"
   ]
  },
  {
   "cell_type": "code",
   "execution_count": 353,
   "metadata": {
    "collapsed": false
   },
   "outputs": [],
   "source": [
    "p0s = [f1.theta_hist[i][0] for i in range(len(f1.theta_hist)) if i % 20 == 0]\n",
    "p1s = [f1.theta_hist[i][1] for i in range(len(f1.theta_hist)) if i % 20 == 0]"
   ]
  },
  {
   "cell_type": "code",
   "execution_count": 354,
   "metadata": {
    "collapsed": false
   },
   "outputs": [
    {
     "data": {
      "image/png": "[encoded data removed]",
      "text/plain": [
       "<matplotlib.figure.Figure at 0x7f2bb849e3d0>"
      ]
     },
     "metadata": {},
     "output_type": "display_data"
    }
   ],
   "source": [
    "CS = plt.contourf(X, Y, Z, 10,\n",
    "                  cmap=plt.cm.RdPu,\n",
    "                  origin='lower')\n",
    "plt.scatter(p0s, p1s, marker=u'+')\n",
    "plt.xlabel('P0')\n",
    "plt.ylabel('P1')\n",
    "\n",
    "cbar = plt.colorbar(CS)\n",
    "cbar.ax.set_ylabel('cost')\n",
    "\n",
    "plt.show()"
   ]
  }
 ],
 "metadata": {
  "kernelspec": {
   "display_name": "Python 2",
   "language": "python",
   "name": "python2"
  },
  "language_info": {
   "codemirror_mode": {
    "name": "ipython",
    "version": 2
   },
   "file_extension": ".py",
   "mimetype": "text/x-python",
   "name": "python",
   "nbconvert_exporter": "python",
   "pygments_lexer": "ipython2",
   "version": "2.7.12"
  }
 },
 "nbformat": 4,
 "nbformat_minor": 0
}
