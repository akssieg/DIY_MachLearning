{
 "cells": [
  {
   "cell_type": "code",
   "execution_count": 1,
   "metadata": {
    "collapsed": true
   },
   "outputs": [],
   "source": [
    "import numpy as np\n",
    "import matplotlib.pyplot as plt\n",
    "%matplotlib inline\n",
    "import pdb"
   ]
  },
  {
   "cell_type": "code",
   "execution_count": 91,
   "metadata": {
    "collapsed": false
   },
   "outputs": [],
   "source": [
    "n_dims = 1\n",
    "\n",
    "\n",
    "lin_func = lambda x: 15*x + 0.58\n",
    "x = np.linspace(0, 10, num=50)\n",
    "y = np.r_[[lin_func(z) for z in x]]"
   ]
  },
  {
   "cell_type": "code",
   "execution_count": 126,
   "metadata": {
    "collapsed": false
   },
   "outputs": [],
   "source": [
    "class Lin_cost_func(object):\n",
    "    \"\"\"Linear cost function and its derivative\"\"\"\n",
    "    def __init__(self, x,y):\n",
    "        self.x, self.y = x,y\n",
    "        \n",
    "    def __call__(self, f):\n",
    "        return 1/2.*np.mean( [(f(_x) - _y)**2 for _x,_y in zip(self.x,self.y) ] )\n",
    "    \n",
    "    def linear_grad(self, f, params):\n",
    "        g0 = np.mean( [ f(_x) - _y for _x,_y in zip(x,y)] )\n",
    "        g1 = np.mean( [ (f(_x) - _y)*_x for _x,_y in zip(x,y)] )\n",
    "        return np.hstack((g0,g1))\n",
    "\n",
    "    \n",
    "class Linear_func(object):\n",
    "    \"\"\"Linear function for regression\"\"\"\n",
    "    def __init__(self, n_d = n_dims):\n",
    "        self.params = np.random.uniform(size = n_d+1)\n",
    "        self.param_hist = [self.params.copy()]\n",
    "        self.grad_hist = []\n",
    "        \n",
    "    def __call__(self, x):\n",
    "        return np.dot(self.params[1:], x) + self.params[0]\n",
    "    \n",
    "    def fit(self, x, y, lrn_rate = 1e-3, max_iter = 10, fin_accuracy = 1e-3):\n",
    "        \"\"\"method for fitting data with gradient descent\"\"\"\n",
    "#         pdb.set_trace()\n",
    "        x_ = np.insert(x,0,1)\n",
    "        cost_f = Lin_cost_func(x_,y)\n",
    "        \n",
    "        for i in xrange(max_iter):\n",
    "            grad = cost_f.linear_grad(self, self.params)\n",
    "            self.params -= lrn_rate * lrn_rate * grad\n",
    "            if np.linalg.norm(self.param_hist[-1] - self.params) > 1:\n",
    "                self.param_hist.append(self.params.copy())\n",
    "            if  np.linalg.norm(self.param_hist[-2] - self.params) < fin_accuracy: \n",
    "                self.param_hist.append(self.params.copy())\n",
    "                print \"Aligned on step %d\" % i\n",
    "                break"
   ]
  },
  {
   "cell_type": "code",
   "execution_count": 127,
   "metadata": {
    "collapsed": true
   },
   "outputs": [],
   "source": [
    "f1 = Linear_func(1)"
   ]
  },
  {
   "cell_type": "code",
   "execution_count": 128,
   "metadata": {
    "collapsed": false
   },
   "outputs": [],
   "source": [
    "res = [f1(z) for z in x]"
   ]
  },
  {
   "cell_type": "code",
   "execution_count": 129,
   "metadata": {
    "collapsed": false
   },
   "outputs": [
    {
     "data": {
      "text/plain": [
       "[<matplotlib.lines.Line2D at 0x7efe774c8290>]"
      ]
     },
     "execution_count": 129,
     "metadata": {},
     "output_type": "execute_result"
    },
    {
     "data": {
      "image/png": "[encoded data removed]",
      "text/plain": [
       "<matplotlib.figure.Figure at 0x7efe775e3b50>"
      ]
     },
     "metadata": {},
     "output_type": "display_data"
    }
   ],
   "source": [
    "plt.scatter(x,y,c='r')\n",
    "plt.plot(x,res)"
   ]
  },
  {
   "cell_type": "code",
   "execution_count": 144,
   "metadata": {
    "collapsed": false
   },
   "outputs": [
    {
     "name": "stdout",
     "output_type": "stream",
     "text": [
      "started\n",
      "[  0.58  15.  ]\n",
      "_______________________________\n",
      "_______________________________\n",
      "finished\n",
      "[  0.58  15.  ]\n"
     ]
    }
   ],
   "source": [
    "a0 = f1.params.copy()\n",
    "print \"started\"\n",
    "print f1.params\n",
    "print '_______________________________'\n",
    "f1.fit(x,y, lrn_rate=0.1, max_iter=10000)\n",
    "print '_______________________________'\n",
    "print \"finished\"\n",
    "print f1.params"
   ]
  },
  {
   "cell_type": "code",
   "execution_count": 131,
   "metadata": {
    "collapsed": false
   },
   "outputs": [
    {
     "data": {
      "text/plain": [
       "<matplotlib.text.Text at 0x7efe77a11050>"
      ]
     },
     "execution_count": 131,
     "metadata": {},
     "output_type": "execute_result"
    },
    {
     "data": {
      "image/png": "[encoded data removed]",
      "text/plain": [
       "<matplotlib.figure.Figure at 0x7efe774c8b50>"
      ]
     },
     "metadata": {},
     "output_type": "display_data"
    }
   ],
   "source": [
    "res = [f1(z) for z in x]\n",
    "plt.scatter(x,y,c='r')\n",
    "plt.plot(x,res)\n",
    "plt.ylabel('f(x)')"
   ]
  },
  {
   "cell_type": "code",
   "execution_count": 140,
   "metadata": {
    "collapsed": false
   },
   "outputs": [],
   "source": [
    "resolution = 200\n",
    "eps = np.abs(max(np.ravel(f1.param_hist)))\n",
    "\n",
    "o_x = np.linspace( f1.params[0]-eps,f1.params[0]+eps, num=resolution)\n",
    "o_y = np.linspace( f1.params[1]-eps,f1.params[1]+eps, num=resolution)\n",
    "X, Y = np.meshgrid(o_x, o_y)\n",
    "\n",
    "CF = Lin_cost_func(x,y)                \n",
    "linear_f = lambda p0, p1, z: p1*x + p0\n",
    "\n",
    "Z = np.array([ CF(lambda z: linear_f(p0,p1,z)) for p0 in o_x for p1 in o_y]).reshape(o_x.size,o_y.size)"
   ]
  },
  {
   "cell_type": "code",
   "execution_count": 141,
   "metadata": {
    "collapsed": false
   },
   "outputs": [],
   "source": [
    "p0s = [f1.param_hist[i][0] for i in range(len(f1.param_hist))]\n",
    "p1s = [f1.param_hist[i][1] for i in range(len(f1.param_hist))]"
   ]
  },
  {
   "cell_type": "code",
   "execution_count": 143,
   "metadata": {
    "collapsed": false
   },
   "outputs": [
    {
     "data": {
      "image/png": "[encoded data removed]",
      "text/plain": [
       "<matplotlib.figure.Figure at 0x7efe77009590>"
      ]
     },
     "metadata": {},
     "output_type": "display_data"
    }
   ],
   "source": [
    "plt.contourf(X, Y, Z, 10,\n",
    "                  cmap=plt.cm.RdPu,\n",
    "                  origin='lower')\n",
    "plt.scatter(p0s, p1s)\n",
    "plt.xlabel('P0')\n",
    "plt.ylabel('P1')\n",
    "plt.show()"
   ]
  },
  {
   "cell_type": "code",
   "execution_count": null,
   "metadata": {
    "collapsed": true
   },
   "outputs": [],
   "source": []
  }
 ],
 "metadata": {
  "kernelspec": {
   "display_name": "Python 2",
   "language": "python",
   "name": "python2"
  },
  "language_info": {
   "codemirror_mode": {
    "name": "ipython",
    "version": 2
   },
   "file_extension": ".py",
   "mimetype": "text/x-python",
   "name": "python",
   "nbconvert_exporter": "python",
   "pygments_lexer": "ipython2",
   "version": "2.7.12"
  }
 },
 "nbformat": 4,
 "nbformat_minor": 0
}
