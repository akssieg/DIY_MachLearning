{
 "cells": [
  {
   "cell_type": "code",
   "execution_count": 1,
   "metadata": {
    "collapsed": true
   },
   "outputs": [],
   "source": [
    "import numpy as np\n",
    "import matplotlib.pyplot as plt\n",
    "from sklearn.datasets.samples_generator import make_blobs\n",
    "%matplotlib inline"
   ]
  },
  {
   "cell_type": "code",
   "execution_count": 2,
   "metadata": {
    "collapsed": false
   },
   "outputs": [],
   "source": [
    "def plot(labels, data, centroids=None,num_clusters=2):\n",
    "    colors = ['r','g','b','y','c','m']\n",
    "    for i in range(num_clusters):\n",
    "        cluster = data[labels == i]\n",
    "        plt.scatter(cluster[:,0],cluster[:,1], c=colors[i])\n",
    "    if not (centroids is None):\n",
    "        for i in range(num_clusters):\n",
    "            plt.scatter(centroids[i,0], centroids[i,1], c=colors[i],marker='x', s=50)"
   ]
  },
  {
   "cell_type": "code",
   "execution_count": 3,
   "metadata": {
    "collapsed": false
   },
   "outputs": [],
   "source": [
    "class K_Means():\n",
    "    \"\"\"class for K_Means classification\"\"\"\n",
    "    def __init__(self, eps=1e-3, dim=2, n_clusters=2):\n",
    "        self.eps = eps\n",
    "        self.dim = dim\n",
    "        self.n_clusters = n_clusters\n",
    "        \n",
    "    def _init_centroids(self,data):\n",
    "        return np.array(\n",
    "            [data.mean(axis=0)+np.random.randn()\n",
    "             for i in range(self.n_clusters)])\n",
    "        \n",
    "    def fit(self,data, maxiter = 1000, max_reset=10):\n",
    "        \"\"\"method for fitting data; -> (labels,centroids)\"\"\"\n",
    "        #initializing centroids\n",
    "        found_good_ones = False\n",
    "        for j in range(max_reset):\n",
    "            centroids = self._init_centroids(data)\n",
    "            ctr_prev = centroids.copy()\n",
    "        \n",
    "            for i in range(maxiter):\n",
    "                #labeling our data\n",
    "                labels = np.array([ np.argmin([ np.linalg.norm(x-c) for c in centroids]) for x in data])\n",
    "                #updating centroids\n",
    "                for i in range(self.n_clusters):\n",
    "                    centroids[i] = data[labels == i].mean(axis=0)\n",
    "                if np.isnan(centroids).any():\n",
    "                    found_good_ones = False\n",
    "                    break\n",
    "                if np.abs(ctr_prev-centroids).max() < self.eps:\n",
    "                    found_good_ones = True\n",
    "                    break\n",
    "                ctr_prev = centroids.copy()\n",
    "            if found_good_ones: break\n",
    "        return labels, centroids"
   ]
  },
  {
   "cell_type": "code",
   "execution_count": 4,
   "metadata": {
    "collapsed": false
   },
   "outputs": [
    {
     "data": {
      "image/png": "[encoded data removed]",
      "text/plain": [
       "<matplotlib.figure.Figure at 0x7fa2cc24ac10>"
      ]
     },
     "metadata": {},
     "output_type": "display_data"
    }
   ],
   "source": [
    "data, labels_true = make_blobs(n_samples=100, n_features=2, centers=5)\n",
    "plot(labels_true,data,num_clusters=5)\n",
    "\n",
    "clf = K_Means(n_clusters=5)"
   ]
  },
  {
   "cell_type": "code",
   "execution_count": 5,
   "metadata": {
    "collapsed": false
   },
   "outputs": [
    {
     "data": {
      "image/png": "[encoded data removed]",
      "text/plain": [
       "<matplotlib.figure.Figure at 0x7fa2c98bbf90>"
      ]
     },
     "metadata": {},
     "output_type": "display_data"
    }
   ],
   "source": [
    "labs, cents = clf.fit(data)\n",
    "\n",
    "plot(labs, data, centroids=cents, num_clusters=5)"
   ]
  }
 ],
 "metadata": {
  "kernelspec": {
   "display_name": "Python 2",
   "language": "python",
   "name": "python2"
  },
  "language_info": {
   "codemirror_mode": {
    "name": "ipython",
    "version": 2
   },
   "file_extension": ".py",
   "mimetype": "text/x-python",
   "name": "python",
   "nbconvert_exporter": "python",
   "pygments_lexer": "ipython2",
   "version": "2.7.12"
  }
 },
 "nbformat": 4,
 "nbformat_minor": 0
}
